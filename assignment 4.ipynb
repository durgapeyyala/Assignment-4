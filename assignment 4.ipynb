{
 "cells": [
  {
   "cell_type": "code",
   "execution_count": 1,
   "id": "e630be87",
   "metadata": {},
   "outputs": [
    {
     "name": "stdout",
     "output_type": "stream",
     "text": [
      "[1, 2, 3, 4, 7, 8, 9]\n"
     ]
    }
   ],
   "source": [
    "#1. Given a list of numbers, write a python program that returns a new list which Has all\n",
    "#duplicate elements removed. And is sorted in an increasing order.\n",
    "# Ex: Input: [2,1,3,4,2,3,3,2,7,9,8,7]\n",
    "#Output: [1,2,3,4,7,8,9]\n",
    "l1=[2,1,3,4,2,3,3,2,7,9,8,7]\n",
    "l2=set(l1)\n",
    "l2\n",
    "l2=list(l2)\n",
    "l2.sort()\n",
    "print(l2)"
   ]
  },
  {
   "cell_type": "code",
   "execution_count": 2,
   "id": "912cef0f",
   "metadata": {},
   "outputs": [
    {
     "name": "stdout",
     "output_type": "stream",
     "text": [
      "1 mango\n",
      "2 banana\n",
      "3 apple\n",
      "4 grapes\n",
      "5 pineapple\n"
     ]
    }
   ],
   "source": [
    "#2. Write a Python program where you will iterate over both keys and values in dictionaries\n",
    "dic={1:\"mango\",2:\"banana\",3:\"apple\",4:\"grapes\",5:\"pineapple\"}\n",
    "for keys,values in dic.items():\n",
    "    print(keys,values)"
   ]
  },
  {
   "cell_type": "code",
   "execution_count": 3,
   "id": "35905b13",
   "metadata": {},
   "outputs": [
    {
     "name": "stdout",
     "output_type": "stream",
     "text": [
      "['Gephi', 'Manoj', 'Tarun']\n"
     ]
    }
   ],
   "source": [
    "#3. Write a Python program that takes a dictionary of student names and returns a list of student names in alphabetical order\n",
    "#Ex: Input: {“Student 1”: \"Tarun\", \"Student 2”: \"Manoj\", \"Student 3”: \"Gephi”}\n",
    "#Output: [“Gephi”,”Manoj”,” Tarun”]\n",
    "dic1={\"Student1\":\"Tarun\",\"Student2\":\"Manoj\",\"Student3\":\"Gephi\"}\n",
    "l1=[]\n",
    "for keys,values in dic1.items():\n",
    "    l1.append(values)\n",
    "    l1.sort()\n",
    "print(l1)"
   ]
  },
  {
   "cell_type": "code",
   "execution_count": 4,
   "id": "ef1caa14",
   "metadata": {},
   "outputs": [
    {
     "name": "stdout",
     "output_type": "stream",
     "text": [
      "['False', 'True', 'False', 'False', 'True']\n"
     ]
    }
   ],
   "source": [
    "#4. Write a Python which returns a new list of Booleans, from a given number. Iterating\n",
    "#through the number one digit at a time, append True if the digit is 1 and False if it is 0.\n",
    "#Ex: Input: “01001”\n",
    "#Output: [“False”, “True”, “False”,” False”,” True”]\n",
    "list1=\"01001\"\n",
    "list2=[]\n",
    "for y in list1:\n",
    "    if y==\"1\":\n",
    "        list2.append(\"True\")\n",
    "    elif y==\"0\":\n",
    "        list2.append(\"False\")\n",
    "print(list2)"
   ]
  },
  {
   "cell_type": "code",
   "execution_count": 5,
   "id": "c2542aaa",
   "metadata": {},
   "outputs": [
    {
     "name": "stdout",
     "output_type": "stream",
     "text": [
      "enter the stringmy name is ame\n",
      "{'s': 1, 'e': 2, 'a': 2, ' ': 3, 'n': 1, 'y': 1, 'm': 3, 'i': 1}\n"
     ]
    }
   ],
   "source": [
    "#5.Write a Python program where you will return a dictionary where the keys will be the\n",
    "#character and the values will be the occurrence of the character in the string, and it\n",
    "#should for any string inputs (dynamic)\n",
    "#Ex: Input: “my name is ame”\n",
    "#Output: {“m”:3,” y”:1,” n”:1,” a”:2,” e”:2,” i”:1,” s”:1}\n",
    "str=input(\"enter the string\")\n",
    "s=set(str)\n",
    "l=list(s)\n",
    "dict1=dict()\n",
    "for y in l:\n",
    "    dict1.update({y:str.count(y)})\n",
    "print(dict1)\n"
   ]
  },
  {
   "cell_type": "code",
   "execution_count": 6,
   "id": "1fcd36cb",
   "metadata": {},
   "outputs": [
    {
     "name": "stdout",
     "output_type": "stream",
     "text": [
      "Ackes\n"
     ]
    }
   ],
   "source": [
    "#6. Given a dictionary containing the names and ages of a group of people, return the name of the oldest person\n",
    "#Ex: Input: {\"Tmma\": 41, \"Ackes\": 45, \"myna\": 15, \"Benthon\": 29}\n",
    "#Output: “Ackes”\n",
    "dic={\"Tmma\":41,\"Ackes\":45,\"Benthon\":29}\n",
    "s=max(dic.values())\n",
    "for y in dic:\n",
    "    if dic[y]==s:\n",
    "        print(y)\n"
   ]
  },
  {
   "cell_type": "code",
   "execution_count": 7,
   "id": "1a245daa",
   "metadata": {},
   "outputs": [
    {
     "name": "stdout",
     "output_type": "stream",
     "text": [
      "enter any number1\n",
      "enter any number3\n",
      "Rock beats the scissor player1 wins\n"
     ]
    }
   ],
   "source": [
    "#7.Write a Python program to create a Rock, Paper, Scissor game, use two inputs for two players:\n",
    "#Conditions: -Rock beats Scissors, Scissors beats Paper, Paper beats Rock\n",
    "rock=1\n",
    "paper=2\n",
    "scissor=3\n",
    "player1=int(input(\"enter any number\"))\n",
    "player2=int(input(\"enter any number\"))\n",
    "if player1==1 and player2==2:\n",
    "    print(\"paper beats the rock player2 wins\")\n",
    "elif player1==1 and player2==3:\n",
    "    print(\"Rock beats the scissor player1 wins\")\n",
    "elif player1==2 and player2==1:\n",
    "    print(\"paper beats the rock player1 wins\")\n",
    "elif player1==2 and player2==3:\n",
    "    print(\"scissor beats the paper player2 wins\")\n",
    "elif player1==3 and player2==2:\n",
    "    print(\"scissor beats the paper player1 wins\")\n",
    "elif player1==3 and player2==1:\n",
    "    print(\"rock beats the scissor player2 wins\")\n",
    "else:\n",
    "    print(\"the game was tie\")"
   ]
  },
  {
   "cell_type": "code",
   "execution_count": 8,
   "id": "fed1ff19",
   "metadata": {},
   "outputs": [
    {
     "name": "stdout",
     "output_type": "stream",
     "text": [
      "['water bottle', 'chips']\n"
     ]
    }
   ],
   "source": [
    "#8. Create a program that returns a list of items that you can afford in the store with the\n",
    "#money you have in your wallet. Create a dictionary with items as key and price as values\n",
    "#Ex: Input:{“water bottles”: “20”,” chips”:10,” Iphone”;49000“,” towel”:90,” pens”:58,” cake”;400}\n",
    "#Your wallet balance: -50\n",
    "#Output: [“water bottles”, “chips”]\n",
    "dic1={\"water bottle\":20,\"chips\":10,\"Iphone\":49000,\"towel\":90,\"pens\":58,\"cake\":400}\n",
    "wallet_balance=50\n",
    "list1=[]\n",
    "for i in dic1:\n",
    "    if dic1[i]<wallet_balance:\n",
    "        list1.append(i)\n",
    "print(list1)"
   ]
  },
  {
   "cell_type": "code",
   "execution_count": 9,
   "id": "2d98375f",
   "metadata": {},
   "outputs": [
    {
     "data": {
      "text/plain": [
       "{1, 2, 3, 4, 5, 6, 7, 8, 9, 10}"
      ]
     },
     "execution_count": 9,
     "metadata": {},
     "output_type": "execute_result"
    }
   ],
   "source": [
    "#9. Write a Python program to create a union of sets\n",
    "set1={1,2,3,4,5}\n",
    "set2={6,7,8,9,10}\n",
    "set3=set1.union(set2)\n",
    "set3"
   ]
  },
  {
   "cell_type": "code",
   "execution_count": 10,
   "id": "b1647762",
   "metadata": {},
   "outputs": [
    {
     "name": "stdout",
     "output_type": "stream",
     "text": [
      "{1, 2, 3, 4, 5, 6, 7, 8, 9, 10, 50, 20}\n"
     ]
    }
   ],
   "source": [
    "set1={1,2,3,4,5}\n",
    "set2={6,7,8,9,10}\n",
    "set3={10,20}\n",
    "set4={50}\n",
    "print(set1.union(set2).union(set3).union(set4))"
   ]
  },
  {
   "cell_type": "code",
   "execution_count": 16,
   "id": "a69bb237",
   "metadata": {},
   "outputs": [
    {
     "name": "stdout",
     "output_type": "stream",
     "text": [
      "enter a number6\n",
      "number was present\n"
     ]
    }
   ],
   "source": [
    "#10. Write a Python program to check if a given value is present in a set or not (Dynamic)\n",
    "set1={1,2,3,4,5,6,7,8}\n",
    "val=int(input(\"enter a number\"))\n",
    "if val in set1:\n",
    "    print('number was present')\n",
    "else:\n",
    "    print('number was not present')"
   ]
  },
  {
   "cell_type": "code",
   "execution_count": 4,
   "id": "25ae2532",
   "metadata": {},
   "outputs": [
    {
     "name": "stdout",
     "output_type": "stream",
     "text": [
      "{'cat': 3, 'dog': 5, 'mouse': 3}\n"
     ]
    }
   ],
   "source": [
    "#11. Write a Python program to find the occurrences of 3 most common words in a given text. And make it as a dictionaries\n",
    "#Ex: Input:” Cat dog dog cat horse dog dog mouse horse dog mouse tiger lion tiger cat mouse snail”\n",
    "#Output: (“dog”:5,”cat”:3,” mouse”;3)\n",
    "words=\"cat dog dog cat horse dog dog mouse horse dog mouse tiger lion tiger cat mouse snail\"\n",
    "new=words.split()\n",
    "new\n",
    "l=[]\n",
    "dic1={}\n",
    "for i in new:\n",
    "    if new.count(i)>=3:\n",
    "        if i in dic1:\n",
    "            dic1[i]=dic1[i]+1\n",
    "        else:\n",
    "            dic1[i]=1\n",
    "print(dic1)\n",
    "\n"
   ]
  },
  {
   "cell_type": "code",
   "execution_count": 18,
   "id": "490fe5d6",
   "metadata": {},
   "outputs": [
    {
     "name": "stdout",
     "output_type": "stream",
     "text": [
      "{'python': 60, 'statistics': 70, 'deeplearning': 90, 'machinelearning': 50}\n"
     ]
    }
   ],
   "source": [
    "#12. Write a Python program that accepts name of given subject and mark, and\n",
    "#make subjects as keys in dictionaries and marks as values and print the final\n",
    "#dictionary with subjects and marks\n",
    "d1=[\"python\",\"statistics\",\"deeplearning\",\"machinelearning\"]\n",
    "d2=[60,70,90,50]\n",
    "dict1=dict()\n",
    "for i in range(len(d1)):\n",
    "    dict1.update({d1[i]:d2[i]})\n",
    "print(dict1)\n"
   ]
  },
  {
   "cell_type": "code",
   "execution_count": null,
   "id": "862a456c",
   "metadata": {},
   "outputs": [],
   "source": []
  }
 ],
 "metadata": {
  "kernelspec": {
   "display_name": "Python 3 (ipykernel)",
   "language": "python",
   "name": "python3"
  },
  "language_info": {
   "codemirror_mode": {
    "name": "ipython",
    "version": 3
   },
   "file_extension": ".py",
   "mimetype": "text/x-python",
   "name": "python",
   "nbconvert_exporter": "python",
   "pygments_lexer": "ipython3",
   "version": "3.9.13"
  }
 },
 "nbformat": 4,
 "nbformat_minor": 5
}
